{
 "cells": [
  {
   "cell_type": "code",
   "execution_count": 1,
   "id": "dc848f8d",
   "metadata": {},
   "outputs": [
    {
     "name": "stdout",
     "output_type": "stream",
     "text": [
      "uv run src/generate_data.py --config.run-path ./logs-expert/glorious-durian-12 --config.level-paths \"worlds/l/car_launch.json\"\n",
      "uv run src/generate_data.py --config.run-path ./logs-expert/vocal-jazz-9 --config.level-paths \"worlds/l/chain_lander.json\"\n",
      "uv run src/generate_data.py --config.run-path ./logs-expert/dauntless-sunset-8 --config.level-paths \"worlds/l/h17_unicycle.json\"\n",
      "uv run src/generate_data.py --config.run-path ./logs-expert/pious-darkness-13 --config.level-paths \"worlds/l/grasp_easy.json\"\n",
      "uv run src/generate_data.py --config.run-path ./logs-expert/divine-galaxy-1 --config.level-paths \"worlds/l/grasp_easy.json\"\n",
      "uv run src/generate_data.py --config.run-path ./logs-expert/wise-totem-11 --config.level-paths \"worlds/l/trampoline.json\"\n",
      "uv run src/generate_data.py --config.run-path ./logs-expert/scarlet-cherry-7 --config.level-paths \"worlds/l/mjc_walker.json\"\n",
      "uv run src/generate_data.py --config.run-path ./logs-expert/crisp-waterfall-6 --config.level-paths \"worlds/l/mjc_swimmer.json\"\n",
      "uv run src/generate_data.py --config.run-path ./logs-expert/gallant-surf-10 --config.level-paths \"worlds/l/catcher_v3.json\"\n",
      "uv run src/generate_data.py --config.run-path ./logs-expert/cool-snowflake-4 --config.level-paths \"worlds/l/hard_lunar_lander.json\"\n",
      "uv run src/generate_data.py --config.run-path ./logs-expert/golden-eon-3 --config.level-paths \"worlds/l/cartpole_thrust.json\"\n",
      "uv run src/generate_data.py --config.run-path ./logs-expert/unique-voice-5 --config.level-paths \"worlds/l/mjc_half_cheetah.json\"\n",
      "uv run src/generate_data.py --config.run-path ./logs-expert/peachy-plant-2 --config.level-paths \"worlds/l/catapult.json\"\n",
      "uv run src/generate_data.py --config.run-path ./logs-expert/unnamed-run --config.level-paths \"worlds/l/grasp_easy.json\"\n"
     ]
    }
   ],
   "source": [
    "import pathlib\n",
    "\n",
    "# Input base log directory\n",
    "LOG_DIR = pathlib.Path(\"/home/wenxi/VLA_RTC/real-time-chunking-kinetix/logs-expert\")\n",
    "\n",
    "# List of known level paths\n",
    "levels = [\n",
    "    \"worlds/l/catapult.json\",\n",
    "    \"worlds/l/cartpole_thrust.json\",\n",
    "    \"worlds/l/hard_lunar_lander.json\",\n",
    "    \"worlds/l/mjc_half_cheetah.json\",\n",
    "    \"worlds/l/mjc_swimmer.json\",\n",
    "    \"worlds/l/mjc_walker.json\",\n",
    "    \"worlds/l/h17_unicycle.json\",\n",
    "    \"worlds/l/chain_lander.json\",\n",
    "    \"worlds/l/catcher_v3.json\",\n",
    "    \"worlds/l/trampoline.json\",\n",
    "    \"worlds/l/car_launch.json\",\n",
    "    \"worlds/l/grasp_easy.json\",\n",
    "]\n",
    "\n",
    "# Create a mapping from safe name to full level path\n",
    "safe_to_full = {\n",
    "    level.replace(\"/\", \"_\").replace(\".json\", \"\"): level for level in levels\n",
    "}\n",
    "\n",
    "# Search and generate\n",
    "for pkl_file in LOG_DIR.glob(\"*/seed_0/0/policies/*.pkl\"):\n",
    "    run_name = pkl_file.parts[-5]  # logs-expert/<run_name>/...\n",
    "    safe_level = pkl_file.stem  # e.g., worlds_l_hard_lunar_lander\n",
    "    if safe_level in safe_to_full:\n",
    "        full_level_path = safe_to_full[safe_level]\n",
    "        print(f'uv run src/generate_data.py --config.run-path ./logs-expert/{run_name} --config.level-paths \"{full_level_path}\"')\n"
   ]
  },
  {
   "cell_type": "code",
   "execution_count": 8,
   "id": "95fe0613",
   "metadata": {},
   "outputs": [
    {
     "name": "stdout",
     "output_type": "stream",
     "text": [
      "uv run src/eval_flow_single.py --run_path ./logs-bc/crimson-waterfall-10/ --output-dir ./logs-eval-n02/worlds_l_catcher_v3 --level-paths \"worlds/l/catcher_v3.json\"\n",
      "uv run src/eval_flow_single.py --run_path ./logs-bc/cartpole_thrust/ --output-dir ./logs-eval-n02/worlds_l_cartpole_thrust --level-paths \"worlds/l/cartpole_thrust.json\"\n",
      "uv run src/eval_flow_single.py --run_path ./logs-bc/cerulean-glitter-6/ --output-dir ./logs-eval-n02/worlds_l_grasp_easy --level-paths \"worlds/l/grasp_easy.json\"\n",
      "uv run src/eval_flow_single.py --run_path ./logs-bc/chocolate-bee-5/ --output-dir ./logs-eval-n02/worlds_l_h17_unicycle --level-paths \"worlds/l/h17_unicycle.json\"\n",
      "uv run src/eval_flow_single.py --run_path ./logs-bc/classic-violet-16/ --output-dir ./logs-eval-n02/worlds_l_chain_lander --level-paths \"worlds/l/chain_lander.json\"\n",
      "uv run src/eval_flow_single.py --run_path ./logs-bc/skilled-resonance-18/ --output-dir ./logs-eval-n02/worlds_l_mjc_half_cheetah --level-paths \"worlds/l/mjc_half_cheetah.json\"\n",
      "uv run src/eval_flow_single.py --run_path ./logs-bc/twilight-firefly-3/ --output-dir ./logs-eval-n02/worlds_l_car_launch --level-paths \"worlds/l/car_launch.json\"\n",
      "uv run src/eval_flow_single.py --run_path ./logs-bc/balmy-morning-11/ --output-dir ./logs-eval-n02/worlds_l_hard_lunar_lander --level-paths \"worlds/l/hard_lunar_lander.json\"\n",
      "uv run src/eval_flow_single.py --run_path ./logs-bc/mjc_walker/ --output-dir ./logs-eval-n02/worlds_l_mjc_walker --level-paths \"worlds/l/mjc_walker.json\"\n",
      "uv run src/eval_flow_single.py --run_path ./logs-bc/robust-jazz-2/ --output-dir ./logs-eval-n02/worlds_l_mjc_swimmer --level-paths \"worlds/l/mjc_swimmer.json\"\n",
      "uv run src/eval_flow_single.py --run_path ./logs-bc/revived-fire-19/ --output-dir ./logs-eval-n02/worlds_l_catapult --level-paths \"worlds/l/catapult.json\"\n",
      "uv run src/eval_flow_single.py --run_path ./logs-bc/crimson-star-17/ --output-dir ./logs-eval-n02/worlds_l_trampoline --level-paths \"worlds/l/trampoline.json\"\n"
     ]
    }
   ],
   "source": [
    "import pathlib\n",
    "\n",
    "# Base directories\n",
    "LOG_DIR = pathlib.Path(\"/home/wenxi/VLA_RTC/real-time-chunking-kinetix/logs-bc\")\n",
    "OUTPUT_DIR = pathlib.Path(\"/logs-eval-n02\")\n",
    "\n",
    "# Known levels\n",
    "levels = [\n",
    "    \"worlds/l/catapult.json\",\n",
    "    \"worlds/l/cartpole_thrust.json\",\n",
    "    \"worlds/l/hard_lunar_lander.json\",\n",
    "    \"worlds/l/mjc_half_cheetah.json\",\n",
    "    \"worlds/l/mjc_swimmer.json\",\n",
    "    \"worlds/l/mjc_walker.json\",\n",
    "    \"worlds/l/h17_unicycle.json\",\n",
    "    \"worlds/l/chain_lander.json\",\n",
    "    \"worlds/l/catcher_v3.json\",\n",
    "    \"worlds/l/trampoline.json\",\n",
    "    \"worlds/l/car_launch.json\",\n",
    "    \"worlds/l/grasp_easy.json\",\n",
    "]\n",
    "\n",
    "# Mapping from safe-level name to full level path\n",
    "safe_to_full = {\n",
    "    level.replace(\"/\", \"_\").replace(\".json\", \"\"): level for level in levels\n",
    "}\n",
    "\n",
    "# Track which levels we've seen\n",
    "seen_levels = set()\n",
    "\n",
    "# Generate one command per level\n",
    "for pkl_file in LOG_DIR.glob(\"*/*/policies/*.pkl\"):\n",
    "    safe_level = pkl_file.stem\n",
    "    if safe_level not in safe_to_full or safe_level in seen_levels:\n",
    "        continue\n",
    "\n",
    "    run_name = pkl_file.parts[-4]  # logs-bc/<run_name>/...\n",
    "    full_level_path = safe_to_full[safe_level]\n",
    "    output_path = OUTPUT_DIR / safe_level\n",
    "\n",
    "    cmd = (\n",
    "        f'uv run src/eval_flow_single.py '\n",
    "        f'--run_path ./logs-bc/{run_name}/ '\n",
    "        f'--output-dir .{output_path} '\n",
    "        f'--level-paths \"{full_level_path}\"'\n",
    "    )\n",
    "    print(cmd)\n",
    "    seen_levels.add(safe_level)\n"
   ]
  },
  {
   "cell_type": "code",
   "execution_count": null,
   "id": "024a45ba",
   "metadata": {},
   "outputs": [],
   "source": []
  }
 ],
 "metadata": {
  "kernelspec": {
   "display_name": "vla",
   "language": "python",
   "name": "python3"
  },
  "language_info": {
   "codemirror_mode": {
    "name": "ipython",
    "version": 3
   },
   "file_extension": ".py",
   "mimetype": "text/x-python",
   "name": "python",
   "nbconvert_exporter": "python",
   "pygments_lexer": "ipython3",
   "version": "3.10.18"
  }
 },
 "nbformat": 4,
 "nbformat_minor": 5
}
